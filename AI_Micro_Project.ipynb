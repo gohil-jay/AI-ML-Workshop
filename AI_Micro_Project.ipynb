{
  "nbformat": 4,
  "nbformat_minor": 0,
  "metadata": {
    "colab": {
      "name": "AI Micro-Project",
      "provenance": [],
      "collapsed_sections": [],
      "toc_visible": true
    },
    "kernelspec": {
      "display_name": "Python 3",
      "name": "python3"
    }
  },
  "cells": [
    {
      "cell_type": "markdown",
      "metadata": {
        "id": "GJBs_flRovLc"
      },
      "source": [
        "# **Fundamental Linear Regression Model**\n",
        "\n"
      ]
    },
    {
      "cell_type": "markdown",
      "metadata": {
        "id": "pp6T4E3IVe8e"
      },
      "source": [
        "## **Importing Libraries**\n",
        "\n",
        "---"
      ]
    },
    {
      "cell_type": "code",
      "metadata": {
        "id": "l5U7sP2fWOAk"
      },
      "source": [
        "import pandas as pd\n",
        "from sklearn.model_selection import train_test_split\n",
        "from sklearn.linear_model import LinearRegression\n",
        "import matplotlib.pyplot as plt"
      ],
      "execution_count": 86,
      "outputs": []
    },
    {
      "cell_type": "markdown",
      "metadata": {
        "id": "8pdARslxVrSL"
      },
      "source": [
        "## **Loading the dataset**\n",
        "\n",
        "---"
      ]
    },
    {
      "cell_type": "code",
      "metadata": {
        "colab": {
          "base_uri": "https://localhost:8080/",
          "height": 195
        },
        "id": "Ljfxnz4rbI67",
        "outputId": "94125b7b-b12c-4e64-9c5d-253a787bb8e8"
      },
      "source": [
        "data = \"https://raw.githubusercontent.com/gohil-jay/AI-ML-Workshop/main/dataset.csv\"\n",
        "dataset = pd.read_csv(data)\n",
        "\n",
        "dataset.head()"
      ],
      "execution_count": 91,
      "outputs": [
        {
          "output_type": "execute_result",
          "data": {
            "text/html": [
              "<div>\n",
              "<style scoped>\n",
              "    .dataframe tbody tr th:only-of-type {\n",
              "        vertical-align: middle;\n",
              "    }\n",
              "\n",
              "    .dataframe tbody tr th {\n",
              "        vertical-align: top;\n",
              "    }\n",
              "\n",
              "    .dataframe thead th {\n",
              "        text-align: right;\n",
              "    }\n",
              "</style>\n",
              "<table border=\"1\" class=\"dataframe\">\n",
              "  <thead>\n",
              "    <tr style=\"text-align: right;\">\n",
              "      <th></th>\n",
              "      <th>YearsExperience</th>\n",
              "      <th>Salary</th>\n",
              "    </tr>\n",
              "  </thead>\n",
              "  <tbody>\n",
              "    <tr>\n",
              "      <th>0</th>\n",
              "      <td>1.1</td>\n",
              "      <td>39343.0</td>\n",
              "    </tr>\n",
              "    <tr>\n",
              "      <th>1</th>\n",
              "      <td>1.3</td>\n",
              "      <td>46205.0</td>\n",
              "    </tr>\n",
              "    <tr>\n",
              "      <th>2</th>\n",
              "      <td>1.5</td>\n",
              "      <td>37731.0</td>\n",
              "    </tr>\n",
              "    <tr>\n",
              "      <th>3</th>\n",
              "      <td>2.0</td>\n",
              "      <td>43525.0</td>\n",
              "    </tr>\n",
              "    <tr>\n",
              "      <th>4</th>\n",
              "      <td>2.2</td>\n",
              "      <td>39891.0</td>\n",
              "    </tr>\n",
              "  </tbody>\n",
              "</table>\n",
              "</div>"
            ],
            "text/plain": [
              "   YearsExperience   Salary\n",
              "0              1.1  39343.0\n",
              "1              1.3  46205.0\n",
              "2              1.5  37731.0\n",
              "3              2.0  43525.0\n",
              "4              2.2  39891.0"
            ]
          },
          "metadata": {
            "tags": []
          },
          "execution_count": 91
        }
      ]
    },
    {
      "cell_type": "markdown",
      "metadata": {
        "id": "m-hXmWmDVv9c"
      },
      "source": [
        "## **Visualizing the dataset**\n",
        "\n",
        "---"
      ]
    },
    {
      "cell_type": "code",
      "metadata": {
        "colab": {
          "base_uri": "https://localhost:8080/",
          "height": 265
        },
        "id": "Q8UUyXbRIme6",
        "outputId": "8df27081-9907-45e0-9313-e799ef993760"
      },
      "source": [
        "plt.hist(dataset['YearsExperience'], color='red')\n",
        "\n",
        "plt.show()"
      ],
      "execution_count": 93,
      "outputs": [
        {
          "output_type": "display_data",
          "data": {
            "image/png": "[encoded data removed]",
            "text/plain": [
              "<Figure size 432x288 with 1 Axes>"
            ]
          },
          "metadata": {
            "tags": [],
            "needs_background": "light"
          }
        }
      ]
    },
    {
      "cell_type": "code",
      "metadata": {
        "colab": {
          "base_uri": "https://localhost:8080/",
          "height": 265
        },
        "id": "WUrCBRFyIxMp",
        "outputId": "c40808e0-4e05-4bed-e562-741840139ff1"
      },
      "source": [
        "plt.hist(dataset[\"Salary\"], color='green')\n",
        "plt.show()"
      ],
      "execution_count": 94,
      "outputs": [
        {
          "output_type": "display_data",
          "data": {
            "image/png": "[encoded data removed]",
            "text/plain": [
              "<Figure size 432x288 with 1 Axes>"
            ]
          },
          "metadata": {
            "tags": [],
            "needs_background": "light"
          }
        }
      ]
    },
    {
      "cell_type": "code",
      "metadata": {
        "colab": {
          "base_uri": "https://localhost:8080/",
          "height": 282
        },
        "id": "hjla0fPPH8tq",
        "outputId": "d492dd6b-eeb3-4314-8d18-4e0d4375b087"
      },
      "source": [
        "var1 = dataset[\"YearsExperience\"]\n",
        "var2 = dataset[\"Salary\"]\n",
        "\n",
        "plt.plot(var1, var2)"
      ],
      "execution_count": 95,
      "outputs": [
        {
          "output_type": "execute_result",
          "data": {
            "text/plain": [
              "[<matplotlib.lines.Line2D at 0x7f46a8869250>]"
            ]
          },
          "metadata": {
            "tags": []
          },
          "execution_count": 95
        },
        {
          "output_type": "display_data",
          "data": {
            "image/png": "[encoded data removed]",
            "text/plain": [
              "<Figure size 432x288 with 1 Axes>"
            ]
          },
          "metadata": {
            "tags": [],
            "needs_background": "light"
          }
        }
      ]
    },
    {
      "cell_type": "markdown",
      "metadata": {
        "id": "DOGcPeoaV39R"
      },
      "source": [
        "## **Bifurcating the dataset**\n",
        "\n",
        "---"
      ]
    },
    {
      "cell_type": "code",
      "metadata": {
        "colab": {
          "base_uri": "https://localhost:8080/"
        },
        "id": "7WhVulyecNdP",
        "outputId": "28c159dc-4730-4e9c-edfc-97d65f0acdab"
      },
      "source": [
        "X = dataset.iloc[:,:-1].values\n",
        "Y = dataset.iloc[:,1].values\n",
        "\n",
        "print(\"X dataset --> \\n\")\n",
        "print(X)\n",
        "print(\"\")\n",
        "print(\"Y dataset --> \\n\")\n",
        "print(Y)"
      ],
      "execution_count": 96,
      "outputs": [
        {
          "output_type": "stream",
          "text": [
            "X dataset --> \n",
            "\n",
            "[[ 1.1]\n",
            " [ 1.3]\n",
            " [ 1.5]\n",
            " [ 2. ]\n",
            " [ 2.2]\n",
            " [ 2.9]\n",
            " [ 3. ]\n",
            " [ 3.2]\n",
            " [ 3.2]\n",
            " [ 3.7]\n",
            " [ 3.9]\n",
            " [ 4. ]\n",
            " [ 4. ]\n",
            " [ 4.1]\n",
            " [ 4.5]\n",
            " [ 4.9]\n",
            " [ 5.1]\n",
            " [ 5.3]\n",
            " [ 5.9]\n",
            " [ 6. ]\n",
            " [ 6.8]\n",
            " [ 7.1]\n",
            " [ 7.9]\n",
            " [ 8.2]\n",
            " [ 8.7]\n",
            " [ 9. ]\n",
            " [ 9.5]\n",
            " [ 9.6]\n",
            " [10.3]\n",
            " [10.5]]\n",
            "\n",
            "Y dataset --> \n",
            "\n",
            "[ 39343.  46205.  37731.  43525.  39891.  56642.  60150.  54445.  64445.\n",
            "  57189.  63218.  55794.  56957.  57081.  61111.  67938.  66029.  83088.\n",
            "  81363.  93940.  91738.  98273. 101302. 113812. 109431. 105582. 116969.\n",
            " 112635. 122391. 121872.]\n"
          ],
          "name": "stdout"
        }
      ]
    },
    {
      "cell_type": "markdown",
      "metadata": {
        "id": "5H8AqChnV-4L"
      },
      "source": [
        "## **Splitting the bifurcated dataset(s)**\n",
        "\n",
        "---"
      ]
    },
    {
      "cell_type": "code",
      "metadata": {
        "colab": {
          "base_uri": "https://localhost:8080/"
        },
        "id": "jmAhErhTcqou",
        "outputId": "8bdffdad-10b8-47a0-9ebb-ccf5e5a3cf1b"
      },
      "source": [
        "X_train, X_test, Y_train, Y_test = train_test_split(X, Y, test_size=0.2, random_state=2)\n",
        "\n",
        "while True:\n",
        "  print(\"Dataset split completed!\")\n",
        "  break"
      ],
      "execution_count": 97,
      "outputs": [
        {
          "output_type": "stream",
          "text": [
            "Dataset split completed!\n"
          ],
          "name": "stdout"
        }
      ]
    },
    {
      "cell_type": "markdown",
      "metadata": {
        "id": "pO1fci2MWFms"
      },
      "source": [
        "## **Creating Linear Regression ML Model**\n",
        "\n",
        "---"
      ]
    },
    {
      "cell_type": "code",
      "metadata": {
        "colab": {
          "base_uri": "https://localhost:8080/"
        },
        "id": "JZHmqK07d3Q3",
        "outputId": "2f93820d-f409-4f2f-9e3b-7363afc84ebc"
      },
      "source": [
        "regressor = LinearRegression()\n",
        "regressor.fit(X_train, Y_train)\n",
        "\n",
        "while True:\n",
        "  print(\"Model training completed!\")\n",
        "  break"
      ],
      "execution_count": 98,
      "outputs": [
        {
          "output_type": "stream",
          "text": [
            "Model training completed!\n"
          ],
          "name": "stdout"
        }
      ]
    },
    {
      "cell_type": "markdown",
      "metadata": {
        "id": "CbX1ggOGW9ox"
      },
      "source": [
        "## **Visualizing regression line**\n",
        "\n",
        "---"
      ]
    },
    {
      "cell_type": "code",
      "metadata": {
        "colab": {
          "base_uri": "https://localhost:8080/",
          "height": 295
        },
        "id": "SSyV9Dh6W84X",
        "outputId": "5695cc08-f5be-46d4-de87-aba5f930cff0"
      },
      "source": [
        "plt.scatter(X_train, Y_train, color='green')\n",
        "plt.plot(X_train, regressor.predict(X_train), color='orange')\n",
        "plt.title(\"Salary vs Experience\")\n",
        "plt.xlabel(\"Experience (in years)\")\n",
        "plt.ylabel(\"Salary\")\n",
        "plt.show()"
      ],
      "execution_count": 99,
      "outputs": [
        {
          "output_type": "display_data",
          "data": {
            "image/png": "[encoded data removed]",
            "text/plain": [
              "<Figure size 432x288 with 1 Axes>"
            ]
          },
          "metadata": {
            "tags": [],
            "needs_background": "light"
          }
        }
      ]
    },
    {
      "cell_type": "markdown",
      "metadata": {
        "id": "pcSV8oE5WMUL"
      },
      "source": [
        "## **Testing the model**\n",
        "\n",
        "---"
      ]
    },
    {
      "cell_type": "code",
      "metadata": {
        "colab": {
          "base_uri": "https://localhost:8080/"
        },
        "id": "sQ4UDPMEeBEn",
        "outputId": "5324a851-6541-45f7-fd91-0d3ef6b0e6ee"
      },
      "source": [
        "Y_pred = regressor.predict(X_test) \n",
        "\n",
        "print(\"Actual values --> \\n\")\n",
        "print(Y_test)\n",
        "print(\"\")\n",
        "print(\"Predicted values --> \\n\")\n",
        "print(Y_pred)"
      ],
      "execution_count": 100,
      "outputs": [
        {
          "output_type": "stream",
          "text": [
            "Actual values --> \n",
            "\n",
            "[46205. 39343. 61111. 57189. 98273. 93940.]\n",
            "\n",
            "Predicted values --> \n",
            "\n",
            "[36833.63210301 34919.71472592 67456.3101364  59800.64062805\n",
            " 92337.23603852 81810.69046455]\n"
          ],
          "name": "stdout"
        }
      ]
    },
    {
      "cell_type": "markdown",
      "metadata": {
        "id": "2jLsucEQWQTZ"
      },
      "source": [
        "## **Visualizing the test results**\n",
        "\n",
        "---"
      ]
    },
    {
      "cell_type": "code",
      "metadata": {
        "colab": {
          "base_uri": "https://localhost:8080/",
          "height": 295
        },
        "id": "y7sl_3IWemAB",
        "outputId": "3c323734-514d-4ccb-9d40-5cb62e566fa5"
      },
      "source": [
        "plt.scatter(X_test, Y_test, color='green')\n",
        "plt.plot(X_train, regressor.predict(X_train), color='orange')\n",
        "plt.title(\"Salary vs Experience\") \n",
        "plt.xlabel(\"Experience (in years)\") \n",
        "plt.ylabel(\"Salary\")\n",
        "plt.show() "
      ],
      "execution_count": 82,
      "outputs": [
        {
          "output_type": "display_data",
          "data": {
            "image/png": "[encoded data removed]",
            "text/plain": [
              "<Figure size 432x288 with 1 Axes>"
            ]
          },
          "metadata": {
            "tags": [],
            "needs_background": "light"
          }
        }
      ]
    },
    {
      "cell_type": "code",
      "metadata": {
        "colab": {
          "base_uri": "https://localhost:8080/",
          "height": 450
        },
        "id": "Vj5gzP1HJeBo",
        "outputId": "7de0d4b4-22f4-4c2c-ebfb-a893b35bc260"
      },
      "source": [
        "temp1 = []\n",
        "temp2 = []\n",
        "temp3 = []\n",
        "\n",
        "for i in range(len(Y_test)):\n",
        "  temp1.append(int(Y_test[i]))\n",
        "\n",
        "for i in range(len(Y_pred)):\n",
        "  temp2.append(int(Y_pred[i]))\n",
        "\n",
        "for i in range(len(Y_pred)):\n",
        "  temp3.append(i)\n",
        "\n",
        "#Printing original values\n",
        "print(\"Actual values -->\")\n",
        "print(temp1)\n",
        "\n",
        "#Printing predicted values\n",
        "print(\"\\nPredicted values -->\")\n",
        "print(temp2)\n",
        "\n",
        "\n",
        "print(\"\\n\")\n",
        "\n",
        "plt.scatter(temp3, temp1, marker=\"*\", color = 'purple')\n",
        "plt.scatter(temp3, temp2, color = 'yellow')"
      ],
      "execution_count": 105,
      "outputs": [
        {
          "output_type": "stream",
          "text": [
            "Actual values -->\n",
            "[46205, 39343, 61111, 57189, 98273, 93940]\n",
            "\n",
            "Predicted values -->\n",
            "[36833, 34919, 67456, 59800, 92337, 81810]\n",
            "\n",
            "\n",
            "\n",
            "\n",
            "\n"
          ],
          "name": "stdout"
        },
        {
          "output_type": "execute_result",
          "data": {
            "text/plain": [
              "<matplotlib.collections.PathCollection at 0x7f46a8b1e210>"
            ]
          },
          "metadata": {
            "tags": []
          },
          "execution_count": 105
        },
        {
          "output_type": "display_data",
          "data": {
            "image/png": "[encoded data removed]",
            "text/plain": [
              "<Figure size 432x288 with 1 Axes>"
            ]
          },
          "metadata": {
            "tags": [],
            "needs_background": "light"
          }
        }
      ]
    },
    {
      "cell_type": "markdown",
      "metadata": {
        "id": "S0kQ0smWWWMS"
      },
      "source": [
        "## **Evaluating the model**\n",
        "\n",
        "---"
      ]
    },
    {
      "cell_type": "code",
      "metadata": {
        "colab": {
          "base_uri": "https://localhost:8080/"
        },
        "id": "EAWooC4jKaoB",
        "outputId": "26941dc7-ee26-4879-90a6-89882b02a0f0"
      },
      "source": [
        "#Printing the prediction's confidence value\n",
        "\n",
        "confidence = regressor.score(X_test, Y_test)\n",
        "print(\"Confidence:         %.2f\" %confidence)"
      ],
      "execution_count": 108,
      "outputs": [
        {
          "output_type": "stream",
          "text": [
            "Confidence:         0.89\n"
          ],
          "name": "stdout"
        }
      ]
    },
    {
      "cell_type": "markdown",
      "metadata": {
        "id": "Em2Qo84ZWbyW"
      },
      "source": [
        "## **Making custom predictions**\n",
        "\n",
        "---"
      ]
    },
    {
      "cell_type": "code",
      "metadata": {
        "colab": {
          "base_uri": "https://localhost:8080/"
        },
        "id": "50FDDCnAe6kT",
        "outputId": "e2104226-6e23-49f0-8ae3-c54de34fec95"
      },
      "source": [
        "#Making prediction on custom value\n",
        "custom_pred = regressor.predict([[12]])\n",
        "print(\"The prediction for custom input : %.5f\" % custom_pred[0])"
      ],
      "execution_count": 109,
      "outputs": [
        {
          "output_type": "stream",
          "text": [
            "The prediction for custom input : 139228.21178\n"
          ],
          "name": "stdout"
        }
      ]
    },
    {
      "cell_type": "markdown",
      "metadata": {
        "id": "QBuJTIVeWfue"
      },
      "source": [
        "# **Thank you**\n",
        "\n",
        "---"
      ]
    }
  ]
}